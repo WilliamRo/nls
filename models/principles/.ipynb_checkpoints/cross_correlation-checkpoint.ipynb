{
 "cells": [
  {
   "cell_type": "markdown",
   "metadata": {
    "collapsed": true
   },
   "source": [
    "## Cross correlation methods for nonlinear system identification \n",
    "### <label style=\"color:#555555\">based on the Volterra-Wienner approach</label>"
   ]
  },
  {
   "cell_type": "markdown",
   "metadata": {},
   "source": [
    "### Some Basics\n",
    "* The $n$-th moment of a Gaussian distribution with $\\mu = 0$ and $\\sigma > 0$ is\n",
    "\n",
    "$$m_n = \\mathbb{E}(X^n) = \\left\\{ \\begin{array}{ll}\n",
    "0, & n \\textrm{ is odd} \\\\\n",
    "\\sigma^n(n-1)(n-3)\\cdots 3\\cdot 1, & n \\textrm{ is even}\n",
    "\\end{array} \\right. $$"
   ]
  },
  {
   "cell_type": "markdown",
   "metadata": {},
   "source": [
    "<label style=\"color:red\">The discussion of cross correlation for Volterra series is circumvented due to the difficulties in handling the diagonal values of the kernel.</label>"
   ]
  },
  {
   "cell_type": "markdown",
   "metadata": {},
   "source": [
    "### Wiener Series\n",
    "The input-specific decomposition of the system operator $T$\n",
    "\n",
    "$$y(t) = T[x(t)] = G_0[k_0, x(t)] + G_1[k_1, x(t)] + G_2[k_2, x(t)] + \\cdots + G_n[k_n, x(t)] + \\cdots $$\n",
    "\n",
    "into a series of mutually uncorrelated operators is called a **Wiener series** expansion in which \n",
    "\n",
    "$G_0[k_0, x(t)] = k_0$\n",
    "\n",
    "$G_1[k_1, x(t)] = \\int_\\mathbb{R} k_1(\\tau_1)x(t - \\tau_1)d\\tau_1 d\\tau_1$\n",
    "\n",
    "$G_2[k_2, x(t)] = \\int_{\\mathbb{R}^2} k_2(\\tau_1, \\tau_2)x(t-\\tau_1)x(t-\\tau_2)d\\tau_1d\\tau_2 - \\int_\\mathbb{R}k_2(\\tau_1, \\tau_2)d\\tau_1$\n",
    "\n",
    "$G_3[k_3, x(t)] = \\int_{\\mathbb{R}^3} k_3(\\tau_1, \\tau_2, \\tau_3)x(t-\\tau_1)x(t-\\tau_2)x(t-\\tau_3)d\\tau_1d\\tau_2d\\tau_3 - 3A\\int_{\\mathbb{R}^2} k_3(\\tau_1, \\tau_2, \\tau_3)x(t-\\tau_1)d\\tau_1d\\tau_2$\n",
    "\n",
    "$\\cdots$\n",
    "\n",
    "\\begin{equarray}\n",
    "G_n[k_n, x(t)] = \\sum_{i=0}^{[n/2]}\\int_{\\mathbb{R}^n}\n",
    "\\end{equarray}\n"
   ]
  }
 ],
 "metadata": {
  "anaconda-cloud": {},
  "kernelspec": {
   "display_name": "Python 2",
   "language": "python",
   "name": "python2"
  },
  "language_info": {
   "codemirror_mode": {
    "name": "ipython",
    "version": 2
   },
   "file_extension": ".py",
   "mimetype": "text/x-python",
   "name": "python",
   "nbconvert_exporter": "python",
   "pygments_lexer": "ipython2",
   "version": "2.7.6"
  }
 },
 "nbformat": 4,
 "nbformat_minor": 0
}
