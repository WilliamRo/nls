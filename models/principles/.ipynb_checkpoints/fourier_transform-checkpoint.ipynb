{
 "cells": [
  {
   "cell_type": "markdown",
   "metadata": {},
   "source": [
    "## Fourier Transform  <label style=\"color:#555555\">on continuous and discrete condition</label>\n",
    "---"
   ]
  },
  {
   "cell_type": "markdown",
   "metadata": {},
   "source": [
    "### Continuous fourier transform\n",
    "\n",
    "If $x(t)\\in L^p$ for $1\\le p\\le2$ (a sufficient condition for the existence of the Fourier transform)$^{[1]}$, we have\n",
    "\n",
    "$$\\left\\{\\begin{array}{l}\n",
    "\\displaystyle X(f) = \\int_{\\mathbb{R}}x(t)e^{-2\\pi jft}~dt\n",
    "\\\\\n",
    "\\displaystyle x(t) = \\int_{\\mathbb{R}} X(f)\\exp(2\\pi jft)~df\n",
    "\\end{array}\\right.\n",
    "\\quad \\text{or} \\quad\n",
    "\\left\\{\\begin{array}{l}\n",
    "\\displaystyle\\tilde{X}(j\\omega) = \\int_{\\mathbb{R}}x(t)\\exp(-j\\omega t)~dt\n",
    "\\\\\n",
    "\\displaystyle x(t) = \\int_{\\mathbb{R}} \\tilde{X}(j\\omega)\\exp(j\\omega t)~d\\omega\n",
    "\\end{array}\\right.$$"
   ]
  },
  {
   "cell_type": "markdown",
   "metadata": {},
   "source": [
    "### References\n",
    "---\n",
    "[1] DSPRELATED.com, EXISTENCE OF THE FOURIER TRANSFORM, [https://www.dsprelated.com/freebooks/mdft/Existence_Fourier_Transform.html](https://www.dsprelated.com/freebooks/mdft/Existence_Fourier_Transform.html).\n",
    "\n",
    "[*] W.J. Rugh, Nonlinear System Theory: The Volterra-Wiener Approach, Johns Hopkins University Press, Baltimore, 1980."
   ]
  }
 ],
 "metadata": {
  "anaconda-cloud": {},
  "kernelspec": {
   "display_name": "Python [conda root]",
   "language": "python",
   "name": "conda-root-py"
  },
  "language_info": {
   "codemirror_mode": {
    "name": "ipython",
    "version": 3
   },
   "file_extension": ".py",
   "mimetype": "text/x-python",
   "name": "python",
   "nbconvert_exporter": "python",
   "pygments_lexer": "ipython3",
   "version": "3.5.2"
  }
 },
 "nbformat": 4,
 "nbformat_minor": 1
}
