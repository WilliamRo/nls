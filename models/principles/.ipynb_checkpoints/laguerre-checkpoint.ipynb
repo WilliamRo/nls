{
 "cells": [
  {
   "cell_type": "markdown",
   "metadata": {},
   "source": [
    "## Identification of Nonlinear Systems\n",
    "### <label style=\"color:#555555\">Using Laguerre Expansion of Kernels</label>\n",
    "---"
   ]
  },
  {
   "cell_type": "markdown",
   "metadata": {},
   "source": [
    "### Generalized Laguerre polynomials\n",
    "For arbitary real $\\alpha$ the polynomial solutions of the differential equation\n",
    "\n",
    "$$xy'' + (\\alpha + 1 - x)y' + ny = 0$$\n",
    "\n",
    "are called **generalized Laguerre polynomials**, which can also be defined recursively with the first two polynomials defined as\n",
    "\n",
    "\\begin{align}\n",
    "L_0^{(\\alpha)}(x) = & 1 \n",
    "\\\\\n",
    "L_1^{(\\alpha)}(x) = & 1 + \\alpha - x\n",
    "\\end{align}\n",
    "\n",
    "and then using the following recurrence relation for any $k\\ge1$:\n",
    "\n",
    "$$L_{k+1}^{(\\alpha)}(x) = \\frac{(2k + 1 + \\alpha - x)L_k^{(\\alpha)}(x) - (k + \\alpha)L_{k-1}^{(\\alpha)}(x)}{k + 1}$$\n",
    "\n",
    "The closed form is \n",
    "$$L_n^{(\\alpha)}(x) = \\frac{x^{-\\alpha}e^x}{n!}\\frac{d^n}{dx^n}(e^{-x}x^{n+\\alpha})$$"
   ]
  },
  {
   "cell_type": "markdown",
   "metadata": {},
   "source": [
    "### Orthogonality\n",
    "The generalized Laguerre polynomials are orthogonal over $[0, \\infty)$ with respect to the measure with weighting function $x^\\alpha e^{-x}$:\n",
    "\n",
    "$$<L_n^{(\\alpha)}(x), L_m^{(\\alpha)}(x)> := \\int_0^\\infty x^\\alpha e^{-x}L_n^{(\\alpha)}(x)L_m^{(\\alpha)}(x)dx = \\frac{\\Gamma(n+\\alpha+1)}{n!}\\delta_{n,m}$$"
   ]
  },
  {
   "cell_type": "markdown",
   "metadata": {},
   "source": [
    "<label style=\"color:red\">The introduction above turns out to have nothing to do with discrete orthonormal Lagurre basis ...</label>"
   ]
  },
  {
   "cell_type": "markdown",
   "metadata": {},
   "source": [
    "### Discrete-time Laguerre expansion method\n",
    "The Wiener series expansion takes the form:\n",
    "\n",
    "\\begin{align}\n",
    "y(t) & = \\sum_{n=0}^\\infty G_n[k_n, x(t)]\n",
    "\\\\\n",
    "& = \\sum_{n=0}^\\infty \\sum_{i=0}^{[n/2]} G_n^{(i)}[k_n, x(t)]\n",
    "\\\\\n",
    "& = \\sum_{n=0}^\\infty \\sum_{i=0}^{[n/2]}\\frac{(-1)^in!A^i}{2^i(n-2i)!i!}\\int_{\\mathbb{R}^{n-i}}k(\\sigma_1, \\cdots, \\sigma_{n-2i}, \\tau_1, \\tau_1, \\cdots, \\tau_i, \\tau_i)\\cdot\\prod_{j=1}^{n-2i}x(t-\\sigma_j)d\\sigma_j\\cdot\\prod_{j=1}^id\\tau_j \n",
    "\\tag{1}\n",
    "\\end{align}\n",
    "\n",
    "For any Wiener functional $Q_m[q_m, x(t)]$,\n",
    "\n",
    "\\begin{align}\n",
    "E[y(t)Q_m[q_m, x(t)]] & = \\sum_{n=0}^\\infty E[G_n[k_n, x(t)]Q_m[q_m, x(t)]]\n",
    "\\\\\n",
    "& = E[G_m[k_m, x(t)]Q_m[q_m, x(t)]]\n",
    "\\\\\n",
    "& = m!A^m\\int_{\\mathbb{R}^m}k_m(\\sigma_1, \\cdots, \\sigma_m)q_m(\\sigma_1, \\cdots, \\sigma_m)d\\sigma_1\\cdots d\\sigma_m\n",
    "\\end{align}"
   ]
  },
  {
   "cell_type": "markdown",
   "metadata": {},
   "source": [
    "### Discrete-time orthonormal Laguerre function\n",
    "The $j$th order discrete-time orthonormal Laguerre function is defined as\n",
    "\n",
    "\\begin{equation}\n",
    "\\phi_{j}(\\tau) = \\alpha^\\frac{\\tau - j}{2} (1-\\alpha)^\\frac{1}{2}\\sum_{k=0}^j(-1)^k{\\tau \\choose k}{j \\choose k}\\alpha^{j-k}(1-\\alpha)^{k}\n",
    "\\quad (\\tau \\ge 0)\n",
    "\\end{equation}\n",
    "\n",
    "where $\\alpha$ is the discrete-time Laguerre parameter ($0 < \\alpha < 1$) which determines the rate of exponetial asymptotic decline of these functions. As we can see $\\{\\phi_j(\\tau)\\}$ is a complete orthonormal basis of the Hilbert space $l^2(0, \\infty)$ and each Wiener kernel can be expanded as\n",
    "\n",
    "$$k_m(\\tau_1, \\cdots, \\tau_m) = \\sum_{j_1}\\cdots\\sum_{j_m}k_{j_1\\cdots j_m}\\phi_{j_1}(\\tau_1)\\cdots\\phi_{j_m}(\\tau_m)$$\n",
    "\n",
    "in which \n",
    "\n",
    "$$k_{j_1\\cdots j_m} = \\int_{\\mathbb{R}^m}k_m(\\tau_1, \\cdots, \\tau_m)\\phi_{j_1}(\\tau_1)\\cdots\\phi_{j_m}(\\tau_m)d\\tau_1\\cdots d\\tau_m$$\n",
    "\n",
    "Thus the discrete form of equation (1) can be rewritten as \n",
    "\n",
    "$$y(t) = \\sum_{n=0}^\\infty \\sum_{j_1}\\cdots\\sum_{j_n}k_{j_1\\cdots j_n}\\Phi_{j_1}[x](t)\\cdots\\Phi_{j_n}[x](t)$$\n",
    "\n",
    "in which \n",
    "\n",
    "$$\\Phi_j[x](t) = T\\sum_{\\tau=0}^M \\phi_j(\\tau)x(t-\\tau)$$\n",
    "\n",
    "The input specification $[x]$ in $\\Phi_j[x](t)$ is usually ommited for simplification and the computation of the variables $\\{\\Phi_j(t)\\}$ can be accelerated significantly by use of the recursive relation:\n",
    "\n",
    "$$\\Phi_j(t) = \\sqrt{\\alpha}~\\Phi_j(t - 1) + \\sqrt{\\alpha}~\\Phi_{j - 1}(t) - \\Phi_{j - 1}(t - 1)$$\n",
    "\n",
    "which is due to the paricular form of the discrete-time Laguerre functions. Computation of this recursive relation must be initialized by the following recursive equation that yields $|phi_0(t)$ for given input $x(t)$:\n",
    "\n",
    "$$\\Phi_0(t) = \\sqrt{\\alpha}~\\Phi_0(t - 1) + T\\sqrt{1 - \\alpha}~x(t)$$"
   ]
  },
  {
   "cell_type": "markdown",
   "metadata": {},
   "source": [
    "### References\n",
    "---\n",
    "[1] WIKIPEDIA, Laguerre polynomials, [https://en.wikipedia.org/wiki/Laguerre_polynomials](https://en.wikipedia.org/wiki/Laguerre_polynomials).\n",
    "\n",
    "[2] W.J. Rugh, Nonlinear System Theory: The Volterra-Wiener Approach, Johns Hopkins University Press, Baltimore, 1980.\n",
    "\n",
    "[3] V. Z. Marmarelis, Identification of nonlinear biological systems using Laguerre expansions of kernels, Ann. Biomed. Eng., vol. 21, no. 6, pp. 573–589, Nov. 1993.\n"
   ]
  },
  {
   "cell_type": "markdown",
   "metadata": {},
   "source": [
    "### Remarks\n",
    "---\n",
    "**Remark 1** Given\n",
    "\n",
    "$$G_2[\\phi_{i_1}\\phi_{i_2}, x(t)] = \\int_{\\mathbb{R}^2}\\frac{1}{2}[\\phi_{i_1}(\\tau_1)\\phi_{i_2}(\\tau_2)+\\phi_{i_1}(\\tau_2)\\phi_{i_2}(\\tau_1)]x(t-\\tau_1)x(t-\\tau_2)d\\tau_1d\\tau_2 - A\\int_{\\mathbb{R}}\\phi_{i_1}(\\tau)\\phi_{i_2}(\\tau)d\\tau$$\n",
    "\n",
    "and \n",
    "\n",
    "$$\\int_{\\mathbb{R}}\\phi_{i}(t)\\phi_{j}(t)dt = \\left \\{\n",
    "\\begin{eqnarray}\n",
    "0, & \\quad i \\ne j\n",
    "\\\\\n",
    "1, & \\quad i = j\n",
    "\\end{eqnarray}\n",
    "\\right.$$\n",
    "\n",
    "we have\n",
    "\n",
    "\\begin{eqnarray}\n",
    "E[y(t)G_2[\\phi_{i_1}\\phi_{i_2},x(t)]] & = & E[\\sum_{n=0}^\\infty G_n[k_n, x(t)]G_2[\\phi_{i_1}\\phi_{i_2}, x(t)]] \n",
    "\\\\\n",
    "& = & E[G_2[k_2, x(t)]G_2[\\phi_{i_1}\\phi_{i_2}, x(t)]] \n",
    "\\\\\n",
    "& = & \\int_{\\mathbb{R}^4}\\frac{1}{2}k_2(\\sigma_1, \\sigma_2)[\\phi_{i_1}(\\tau_1)\\phi_{i_2}(\\tau_2)+\\phi_{i_1}(\\tau_2)\\phi_{i_2}(\\tau_1)]\n",
    "E[x(t-\\sigma_1)x(t-\\sigma_2)x(t-\\tau_1)x(t-\\tau_2)]d\\sigma_1 d\\sigma_2 d\\tau_1 d\\tau_2 \n",
    "\\\\\n",
    "&& - A\\int_{\\mathbb{R}^2}k_2(\\sigma, \\sigma)\\phi_{i_1}(\\tau_1)\\phi_{i_2}(\\tau_2)E[x(t-\\tau_1)x(t-\\tau_2)]d\\sigma d\\tau_1 d\\tau_2\n",
    "\\\\\n",
    "& = & 2A^2\\frac{1}{2}[k_{i_1i_2}+k_{i_2i_1}] - 0 = 2A^2k_{i_1i_2}\n",
    "\\end{eqnarray}"
   ]
  }
 ],
 "metadata": {
  "anaconda-cloud": {},
  "kernelspec": {
   "display_name": "Python [conda root]",
   "language": "python",
   "name": "conda-root-py"
  },
  "language_info": {
   "codemirror_mode": {
    "name": "ipython",
    "version": 3
   },
   "file_extension": ".py",
   "mimetype": "text/x-python",
   "name": "python",
   "nbconvert_exporter": "python",
   "pygments_lexer": "ipython3",
   "version": "3.5.2"
  }
 },
 "nbformat": 4,
 "nbformat_minor": 1
}
