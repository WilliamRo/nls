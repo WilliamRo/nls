{
 "cells": [
  {
   "cell_type": "markdown",
   "metadata": {},
   "source": [
    "## Measuring Volterra Kernels\n",
    "### <label style=\"color:#555555\">in frequency domain</label>\n",
    "---"
   ]
  },
  {
   "cell_type": "markdown",
   "metadata": {},
   "source": [
    "### The Laplace transform\n",
    "The Laplace transform of a function of $n$ variables $f(t_1,\\cdots,t_n)$ is defined as \n",
    "\n",
    "$$F(s_1,\\cdots,s_n) = L[f(t_1,\\cdots,t_n)] = \\int_{\\mathbb{R}^n} f(t_1,\\cdots,t_n) \\exp(-s_1t_1)\\cdots\\exp(-s_nt_n)~dt_1\\cdots dt_n$$"
   ]
  },
  {
   "cell_type": "markdown",
   "metadata": {},
   "source": [
    "**Theorem 1** &nbsp; The Laplace transform operation is linear:\n",
    "\n",
    "\\begin{align}\n",
    "& L[f(t_1,\\cdots,t_n)+g(t_1,\\cdots,t_n)] = F(s_1,\\cdots,s_n) + G(s_1,\\cdots,s_n)\n",
    "\\\\\n",
    "& L[\\alpha f(t_1,\\cdots,t_n)] = \\alpha F(s_1,\\cdots,s_n), ~~\\text{for scalar}~\\alpha\n",
    "\\end{align}"
   ]
  },
  {
   "cell_type": "markdown",
   "metadata": {},
   "source": [
    "**Theorem 2** &nbsp; If $f(t_1,\\cdots,t_n)$ can be written as a product of two factors,\n",
    "\n",
    "$$f(t_1,\\cdots,t_n) = h(t_1,\\cdots,t_k)g(t_{k+1},\\cdots,t_n)$$\n",
    "then\n",
    "$$F(s_1,\\cdots,s_n) = H(s_1,\\cdots,s_{k})G(s_{k+1},\\cdots,s_n)$$"
   ]
  },
  {
   "cell_type": "markdown",
   "metadata": {},
   "source": [
    "**Theorem 3** &nbsp; If $f(t_1,\\cdots,t_n)$ can be written as a convolution of the form\n",
    "\n",
    "$$f(t_1,\\cdots,t_n) = \\int_{\\mathbb{R}} h(\\tau)g(t_1-\\tau,\\cdots,t_n-\\tau)d\\tau$$\n",
    "then\n",
    "$$F(s_1,\\cdots,s_n) = H(s_1 + \\cdots + s_n)G(s_1,\\cdots,s_n)$$"
   ]
  },
  {
   "cell_type": "markdown",
   "metadata": {},
   "source": [
    "**Theorem 4** &nbsp; If $f(t_1,\\cdots,t_n)$ can be written as an n-fold convolution of the form\n",
    "\n",
    "$$f(t_1,\\cdots,t_n) = \\int_{\\mathbb{R}^n} h(t_1-\\tau_1,\\cdots,t_n-\\tau_n)g(\\tau_1,\\cdots,\\tau_n)d\\tau_1\\cdots d\\tau_n$$\n",
    "then \n",
    "$$F(s_1,\\cdots,s_n) = H(s_1,\\cdots,s_n)G(s_1,\\cdots,s_n)$$"
   ]
  },
  {
   "cell_type": "markdown",
   "metadata": {},
   "source": [
    "### Preliminaries\n",
    "Under very general conditions a nonlinear causal time invariant operator $T$ has a Volterra series\n",
    "\n",
    "$$y(t) = T[x(t)] = y_0(t) + y_1(t) + y_2(t) + \\cdots$$\n",
    "\n",
    "in which we assume $y_0(t) = 0$ and\n",
    "\n",
    "$$y_n(t) = \\int_{\\mathbb{(R^+)}^n} h_n(\\tau_1, \\tau_2, \\cdots, \\tau_n) x(t-\\tau_1)x(t-\\tau_2)\\cdots x(t - \\tau_n) d\\tau_1d\\tau_2\\cdots d\\tau_n$$\n",
    "\n",
    "Each $h_n$ determines a symmetric multilinear operator\n",
    "\n",
    "$$T_n[x;t_1,t_2,\\cdots,t_n] = \\tilde{y}_n(t_1,t_2,\\cdots,t_n) = \\int_{(\\mathbb{R^+})^n} h_n(\\tau_1,\\tau_2,\\cdots,\\tau_n)x(t_1-\\tau_1)x(t_2-\\tau_2)\\cdots x(t_n-\\tau_n)d\\tau_1d\\tau_2\\cdots d\\tau_n$$\n",
    "\n",
    "so that $y_n(t) = T_n[x;t,t,\\cdots,t] = \\tilde{y}_n(t,t,\\cdots,t)$."
   ]
  },
  {
   "cell_type": "markdown",
   "metadata": {},
   "source": [
    "These multilinear operators can be specified in terms of their Laplace transforms \n",
    "\n",
    "$$H_n(s_1,s_2,\\cdots,s_n) = \\int_{\\mathbb{(R^+)}^n} h_n(t_1,t_2,\\cdots,t_n) \\exp(-\\sum_{i=1}^ns_it_i)~dt_1dt_2\\cdots dt_n$$\n",
    "Thus if $\\displaystyle x(t) = \\sum_{k=1}^K a_k\\exp(s_kt)$, we have\n",
    "\n",
    "\\begin{eqnarray}\n",
    "y_n(t) & = & \\int_{\\mathbb{(R)^+}^n} h_n(\\tau_1,\\cdots,\\tau_n)\\prod_{i=1}^n\\left[\\sum_{k=1}^K\\alpha_k\\exp(s_k(t-\\tau_i))d\\tau_i\\right]\n",
    "\\\\\n",
    "& = & \\sum_{k_1=1}^K\\cdots\\sum_{k_n=1}^K \\alpha_{k_1}\\cdots\\alpha_{k_n}\\exp(\\sum_{i=1}^ns_{k_i}t)\\int_{\\mathbb{(R^+)}^n}h_n(\\tau_1,\\cdots,\\tau_n)\\exp(-\\sum_{i=1}^ns_{k_i}\\tau_i)d\\tau_1\\cdots d\\tau_n\n",
    "\\\\\n",
    "& = & \\sum_{k_1=1}^K\\cdots\\sum_{k_n=1}^K \\alpha_{k_1}\\cdots\\alpha_{k_n}\\exp(\\sum_{i=1}^ns_{k_i}t) H_n(s_{k_1},\\cdots,s_{k_n})\n",
    "\\end{eqnarray}"
   ]
  },
  {
   "cell_type": "markdown",
   "metadata": {},
   "source": [
    "### Harmonic Probing\n",
    "Given input $\\displaystyle x(t) = \\sum_{k=1}^K a_k \\exp(s_kt)$, we have\n",
    "\n",
    "\\begin{eqnarray}\n",
    "Y_n(s) & = & \\int y_n(t)\\exp(-st)dt\n",
    "\\\\\n",
    "& = & \\int \\left[\\sum_{k_1=1}^K\\cdots\\sum_{k_n=1}^K a_{k_1}\\cdots a_{k_n}\\exp(\\sum_{i=1}^ns_{k_i}t) H_n(s_{k_1},\\cdots,s_{k_n})\n",
    "\\right]\\exp(-st)dt\n",
    "\\\\\n",
    "& = & \\sum_{k_1=1}^K\\cdots\\sum_{k_n=1}^K a_{k_1}\\cdots a_{k_n} H_n(s_{k_1},\\cdots,s_{k_n})\\int \\exp\\left[(\\sum_{i=1}^ns_{k_i}-s)t\\right]dt\n",
    "\\end{eqnarray}"
   ]
  },
  {
   "cell_type": "markdown",
   "metadata": {},
   "source": [
    "Given discrete probing signal $\\displaystyle x[t] = \\sum_{k=-m}^m a_k\\exp(j\\omega_kt)$ where $a_i = a_{-i}^*$ and by applying discrete Fourier transform to $y_n[t]$ we have\n",
    "\n",
    "\\begin{eqnarray}\n",
    "Y_n[j\\omega] & = & \\sum_{k_1=-m}^m\\cdots\\sum_{k_n=-m}^m a_{k_1}\\cdots a_{k_n} H_n(j\\omega_{k_1},\\cdots,j\\omega_{k_n})DFT\\left\\{\\exp\\left[j\\sum_{i=1}^n\\omega_{k_i}t\\right]\\right\\}\n",
    "\\\\ \n",
    "& = & \\left\\{\\begin{array}{ll}\n",
    "a_{k_1}\\cdots a_{k_n} H_n(j\\omega_{k_1},\\cdots,j\\omega_{k_n}), & \\displaystyle\\omega = \\sum_{i=1}^n\\omega_{k_i}\n",
    "\\\\\n",
    "0, & \\text{otherwise}\n",
    "\\end{array}\\right.\n",
    "\\end{eqnarray}\n",
    "\n",
    "thus\n",
    "$$H_n(j\\omega_{k_1},\\cdots,j\\omega_{k_n}) = \\frac{\\displaystyle Y_n\\left(j\\sum_{i=1}^n\\omega_{k_i}\\right)}{a_{k_1}a_{k_2}\\cdots a_{k_n}}$$"
   ]
  }
 ],
 "metadata": {
  "anaconda-cloud": {},
  "kernelspec": {
   "display_name": "Python [conda root]",
   "language": "python",
   "name": "conda-root-py"
  },
  "language_info": {
   "codemirror_mode": {
    "name": "ipython",
    "version": 3
   },
   "file_extension": ".py",
   "mimetype": "text/x-python",
   "name": "python",
   "nbconvert_exporter": "python",
   "pygments_lexer": "ipython3",
   "version": "3.5.2"
  }
 },
 "nbformat": 4,
 "nbformat_minor": 1
}
