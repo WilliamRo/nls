{
 "cells": [
  {
   "cell_type": "markdown",
   "metadata": {
    "collapsed": true
   },
   "source": [
    "## Cross correlation methods for nonlinear system identification \n",
    "### <label style=\"color:#555555\">based on the Volterra-Wienner approach</label>"
   ]
  },
  {
   "cell_type": "markdown",
   "metadata": {},
   "source": [
    "### Some Basics\n",
    "* The $n$-th moment of a Gaussian distribution with $\\mu = 0$ and $\\sigma > 0$ is\n",
    "\n",
    "$$m_n = E(X^n) = \\left\\{ \\begin{array}{ll}\n",
    "0, & n \\textrm{ is odd} \\\\\n",
    "\\sigma^n(n-1)(n-3)\\cdots 3\\cdot 1, & n \\textrm{ is even}\n",
    "\\end{array} \\right. $$"
   ]
  },
  {
   "cell_type": "markdown",
   "metadata": {},
   "source": [
    "<label style=\"color:red\">The discussion of cross correlation for Volterra series is circumvented due to the difficulties in handling the diagonal values of the kernel.</label>"
   ]
  },
  {
   "cell_type": "markdown",
   "metadata": {},
   "source": [
    "### Wiener Series\n",
    "The input-specific decomposition of the system operator $T$\n",
    "\n",
    "$$y(t) = T[x(t)] = G_0[k_0, x(t)] + G_1[k_1, x(t)] + G_2[k_2, x(t)] + \\cdots + G_n[k_n, x(t)] + \\cdots $$\n",
    "\n",
    "into a series of mutually uncorrelated operators is called a **Wiener series** expansion in which \n",
    "\n",
    "\\begin{align}\n",
    "G_0[k_0, x(t)] = & ~k_0 \n",
    "\\\\\n",
    "G_1[k_1, x(t)] = & \\int_\\mathbb{R} k_1(\\sigma_1)x(t - \\sigma_1)d\\sigma_1 \n",
    "\\\\\n",
    "G_2[k_2, x(t)] = & \\int_{\\mathbb{R}^2} k_2(\\sigma_1, \\sigma_2)x(t-\\sigma_1)x(t-\\sigma_2)d\\sigma_1d\\sigma_2 - A\\int_\\mathbb{R} k_2(\\tau_1, \\tau_1)d\\tau_1 \n",
    "\\\\\n",
    "G_3[k_3, x(t)] = & \\int_{\\mathbb{R}^3} k_3(\\sigma_1, \\sigma_2, \\sigma_3)x(t-\\sigma_1)x(t-\\sigma_2)x(t-\\sigma_3)d\\sigma_1d\\sigma_2d\\sigma_3 - 3A\\int_{\\mathbb{R}^2} k_3(\\sigma_1, \\tau_1, \\tau_1)x(t-\\sigma_1)d\\sigma_1d\\tau_1 \n",
    "\\\\\n",
    "G_4[k_4, x(t)] = & \\int_{\\mathbb{R}^4} k_4(\\sigma_1, \\sigma_2, \\sigma_3, \\sigma_4)x(t-\\sigma_1)x(t-\\sigma_2)x(t-\\sigma_3)x(t-\\sigma_4)d\\sigma_1d\\sigma_2d\\sigma_3d\\sigma_4\n",
    "\\\\\n",
    "& -6A\\int_{\\mathbb{R}^3} k_4(\\sigma_1, \\sigma_2, \\tau_1, \\tau_1)x(t-\\sigma_1)x(t-\\sigma_2)d\\sigma_1d\\sigma_2d\\tau_1 +3A^2\\int_{\\mathbb{R}^2} k_4(\\tau_1, \\tau_1, \\tau_2, \\tau_2)d\\tau_1d\\tau_2\n",
    "\\\\\n",
    "\\cdots \n",
    "\\\\\n",
    "G_n[k_n, x(t)] = & \\sum_{i=0}^{[n/2]}\\frac{(-1)^in!A^i}{2^i(n-2i)!i!}\\int_{\\mathbb{R}^{n-i}}k(\\sigma_1, \\cdots, \\sigma_{n-2i}, \\tau_1, \\tau_1, \\cdots, \\tau_i, \\tau_i)\\cdot\\prod_{j=1}^{n-2i}x(t-\\sigma_j)d\\sigma_j\\cdot\\prod_{j=1}^id\\tau_j\n",
    "\\\\\n",
    "\\cdots\n",
    "\\end{align}\n",
    "\n"
   ]
  },
  {
   "cell_type": "markdown",
   "metadata": {},
   "source": [
    "### Kernel Determination\n",
    "$$k_n(\\tau_1, \\cdots, \\tau_n) = \\frac{1}{n!A^n}E\\left[\\left\\{y(t) - \\sum_{m=0}^{n-1}G_m[k_m, x(t)]\\right\\}\\prod_{i=1}^nx(t-\\tau_i)\\right]$$"
   ]
  },
  {
   "cell_type": "markdown",
   "metadata": {},
   "source": [
    "### References\n",
    "---\n",
    "[1] Lee and Schetzen. \"Measurement of the Wiener kernels of a non-linear system by cross-correlation\". International Journal of Control. First. 2 (3): 237–254. 1965.\n"
   ]
  }
 ],
 "metadata": {
  "anaconda-cloud": {},
  "kernelspec": {
   "display_name": "Python 2",
   "language": "python",
   "name": "python2"
  },
  "language_info": {
   "codemirror_mode": {
    "name": "ipython",
    "version": 2
   },
   "file_extension": ".py",
   "mimetype": "text/x-python",
   "name": "python",
   "nbconvert_exporter": "python",
   "pygments_lexer": "ipython2",
   "version": "2.7.6"
  }
 },
 "nbformat": 4,
 "nbformat_minor": 0
}
