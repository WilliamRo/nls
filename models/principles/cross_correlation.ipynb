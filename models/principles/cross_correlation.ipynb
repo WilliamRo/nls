{
 "cells": [
  {
   "cell_type": "markdown",
   "metadata": {
    "collapsed": true
   },
   "source": [
    "## Cross correlation methods for nonlinear system identification \n",
    "### <label style=\"color:#555555\">based on the Volterra-Wienner approach</label>"
   ]
  },
  {
   "cell_type": "markdown",
   "metadata": {},
   "source": [
    "### Some Basics\n",
    "* The $n$-th moment of a Gaussian distribution with $\\mu = 0$ and $\\sigma > 0$ is\n",
    "$$m_n = \\mathbb{E}(X^n) = \\left\\{ \\begin{array}{ll}\n",
    "0, & n \\textrm{ is odd} \\\\\n",
    "\\sigma^n(n-1)(n-3)\\cdots 3\\cdot 1, & n \\textrm{ is even}\n",
    "\\end{array} \\right. $$"
   ]
  },
  {
   "cell_type": "markdown",
   "metadata": {},
   "source": [
    "<label style=\"color:red\">This note is closed due to the difficulties in handling the diagonal values of the kernel.</label>"
   ]
  }
 ],
 "metadata": {
  "anaconda-cloud": {},
  "kernelspec": {
   "display_name": "Python 2",
   "language": "python",
   "name": "python2"
  },
  "language_info": {
   "codemirror_mode": {
    "name": "ipython",
    "version": 2
   },
   "file_extension": ".py",
   "mimetype": "text/x-python",
   "name": "python",
   "nbconvert_exporter": "python",
   "pygments_lexer": "ipython2",
   "version": "2.7.6"
  }
 },
 "nbformat": 4,
 "nbformat_minor": 0
}
