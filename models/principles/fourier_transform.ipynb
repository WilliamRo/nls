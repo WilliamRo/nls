{
 "cells": [
  {
   "cell_type": "markdown",
   "metadata": {},
   "source": [
    "## Fourier Transform  <label style=\"color:#555555\">on continuous and discrete condition</label>\n",
    "---"
   ]
  },
  {
   "cell_type": "markdown",
   "metadata": {},
   "source": [
    "### Continuous fourier transform <label style=\"color:#555555\">(continuous time and continuous frequency)</label>\n",
    "\n",
    "If $x(t)\\in L^p$ for $1\\le p\\le2$ (a sufficient condition for the existence of the Fourier transform)$^{[1]}$, we have\n",
    "\n",
    "$$\\left\\{\\begin{array}{l}\n",
    "\\displaystyle X(f) = \\int_{\\mathbb{R}}x(t)\\exp(-2\\pi jft)~dt\n",
    "\\\\\n",
    "\\displaystyle x(t) = \\int_{\\mathbb{R}} X(f)\\exp(2\\pi jft)~df\n",
    "\\end{array}\\right.\n",
    "\\quad \\text{or} \\quad\n",
    "\\left\\{\\begin{array}{l}\n",
    "\\displaystyle\\tilde{X}(j\\omega) = \\int_{\\mathbb{R}}x(t)\\exp(-j\\omega t)~dt\n",
    "\\\\\n",
    "\\displaystyle x(t) = \\frac{1}{2\\pi}\\int_{\\mathbb{R}} \\tilde{X}(j\\omega)\\exp(j\\omega t)~d\\omega\n",
    "\\end{array}\\right.$$\n",
    "\n",
    "There is never a question of existence for Fourier transforms of real-world signals encountered in practice. However, idealized signals, such as sinusoids that go on forever in time, do pose normalization difficulties. In practical engineering analysis, these difficulties are resolved using Dirac's 'generalized functions' such as the impulse (also called the delta function) "
   ]
  },
  {
   "cell_type": "markdown",
   "metadata": {},
   "source": [
    "### Time-domain sampling <label style=\"color:#555555\">(discrete time and continuous frequency)</label>"
   ]
  },
  {
   "cell_type": "markdown",
   "metadata": {},
   "source": [
    "### Frequency-domain sampling <label style=\"color:#555555\">(continuous time and discrete frequency)</label>"
   ]
  },
  {
   "cell_type": "markdown",
   "metadata": {},
   "source": [
    "### Discrete fourier transform <label style=\"color:#555555\">(discrete time and discrete frequency)</label>"
   ]
  },
  {
   "cell_type": "markdown",
   "metadata": {},
   "source": [
    "### References\n",
    "---\n",
    "[1] DSPRELATED.com, EXISTENCE OF THE FOURIER TRANSFORM, [https://www.dsprelated.com/freebooks/mdft/Existence_Fourier_Transform.html](https://www.dsprelated.com/freebooks/mdft/Existence_Fourier_Transform.html).\n",
    "\n",
    "[2] Alan V. Oppenheim, Signals and Systems (2nd Edition), Publishing House of Electronics Industry, Beijing, 2013."
   ]
  },
  {
   "cell_type": "markdown",
   "metadata": {},
   "source": [
    "### Remarks\n",
    "---\n",
    "**Remark 1** Given"
   ]
  }
 ],
 "metadata": {
  "anaconda-cloud": {},
  "kernelspec": {
   "display_name": "Python [conda root]",
   "language": "python",
   "name": "conda-root-py"
  },
  "language_info": {
   "codemirror_mode": {
    "name": "ipython",
    "version": 3
   },
   "file_extension": ".py",
   "mimetype": "text/x-python",
   "name": "python",
   "nbconvert_exporter": "python",
   "pygments_lexer": "ipython3",
   "version": "3.5.2"
  }
 },
 "nbformat": 4,
 "nbformat_minor": 1
}
